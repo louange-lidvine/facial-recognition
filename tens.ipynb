{
 "cells": [
  {
   "cell_type": "code",
   "execution_count": 2,
   "metadata": {},
   "outputs": [
    {
     "name": "stdout",
     "output_type": "stream",
     "text": [
      "WARNING:tensorflow:From c:\\Users\\user\\Desktop\\Tensor-Flow\\venv\\Lib\\site-packages\\keras\\src\\backend.py:1398: The name tf.executing_eagerly_outside_functions is deprecated. Please use tf.compat.v1.executing_eagerly_outside_functions instead.\n",
      "\n"
     ]
    }
   ],
   "source": [
    "import numpy as np\n",
    "import tensorflow  as fe;\n",
    "import cv2;\n",
    "import keras\n",
    "from keras import layers;\n",
    "\n",
    "from tensorflow.keras.models import Model\n",
    "from tensorflow.keras.layers import Input, Dense, Concatenate\n",
    "from tensorflow.keras.layers import Layer, Conv2D, MaxPooling2D, Input, Flatten\n",
    "import tensorflow as tf\n",
    "\n",
    "\n",
    "# Assuming height, width, and channels are predefined\n",
    "height = 64\n",
    "width = 64\n",
    "channels = 3\n",
    "\n",
    "# Example input layers\n",
    "input_image = Input(shape=(height, width, channels))\n",
    "verification_image = Input(shape=(height, width, channels))\n",
    "\n",
    "# Example layers for your model\n",
    "dense_layer1 = Dense(128, activation='relu')(input_image)\n",
    "dense_layer2 = Dense(128, activation='relu')(verification_image)\n",
    "\n",
    "# Concatenate or merge the layers based on your model architecture\n",
    "merged_layer = Concatenate()([dense_layer1, dense_layer2])\n",
    "\n",
    "# Output layers\n",
    "output_layer1 = Dense(1, activation='sigmoid')(merged_layer)\n",
    "output_layer2 = Dense(1, activation='sigmoid')(merged_layer)\n",
    "\n",
    "# Create the model\n",
    "model = Model(inputs=[input_image, verification_image], outputs=[output_layer1, output_layer2])\n",
    "\n",
    "# Set memory growth for GPUs\n",
    "gpus = tf.config.experimental.list_physical_devices(\"GPU\")\n",
    "for gpu in gpus:\n",
    "    tf.config.experimental.set_memory_growth(gpu, True)\n",
    "\n",
    "#paths set up\n",
    "\n",
    "POS_PATH=os.path.join('data' ,'positive')\n",
    "NEG_PATH=os.path.join('data', 'negative')\n",
    "ANC_PATH=os.path.join('data' ,'anchor')\n",
    "\n",
    "#make dirs\n",
    "os.makedirs(POS_PATH)\n",
    "os.makedirs(NEG_PATH)\n",
    "os.makedirs(ANC_PATH)\n"
   ]
  },
  {
   "cell_type": "code",
   "execution_count": null,
   "metadata": {},
   "outputs": [],
   "source": []
  },
  {
   "cell_type": "code",
   "execution_count": null,
   "metadata": {},
   "outputs": [],
   "source": []
  }
 ],
 "metadata": {
  "kernelspec": {
   "display_name": "venv",
   "language": "python",
   "name": "python3"
  },
  "language_info": {
   "codemirror_mode": {
    "name": "ipython",
    "version": 3
   },
   "file_extension": ".py",
   "mimetype": "text/x-python",
   "name": "python",
   "nbconvert_exporter": "python",
   "pygments_lexer": "ipython3",
   "version": "3.11.0"
  }
 },
 "nbformat": 4,
 "nbformat_minor": 2
}
